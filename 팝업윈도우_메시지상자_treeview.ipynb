{
 "cells": [
  {
   "cell_type": "markdown",
   "metadata": {
    "collapsed": false,
    "pycharm": {
     "name": "#%% md\n"
    }
   },
   "source": [
    "### Treeview 에 데이터 삽입"
   ]
  },
  {
   "cell_type": "code",
   "execution_count": 4,
   "metadata": {
    "collapsed": false,
    "pycharm": {
     "name": "#%%\n"
    }
   },
   "outputs": [],
   "source": [
    "from tkinter import *\n",
    "from tkinter.ttk import Treeview, Scrollbar\n",
    "\n",
    "window = Tk()\n",
    "window.title(\"Tkinter Treeview\")\n",
    "window.geometry(\"600x400+200+200\")\n",
    "\n",
    "frame_top = Frame(window)\n",
    "frame_top.pack()\n",
    "\n",
    "\n",
    "treeview = Treeview(frame_top, selectmode='browse')\n",
    "treeview.pack(side='left')\n",
    "\n",
    "treeview[\"columns\"] = (\"name\", \"phone\",\"email\")\n",
    "treeview.heading(\"name\", text=\"name\")\n",
    "treeview.heading(\"phone\", text=\"phone\")\n",
    "treeview.heading(\"email\", text=\"email\")\n",
    "\n",
    "\n",
    "\n",
    "treeview.column(\"name\", width=100, anchor=\"center\")\n",
    "treeview.heading(\"name\", text=\"이름\", anchor=\"center\")\n",
    "\n",
    "treeview.column(\"phone\", width=200, anchor=\"center\")\n",
    "treeview.heading(\"phone\", text=\"연락처\", anchor=\"center\")\n",
    "\n",
    "treeview.column(\"email\", width=280, anchor=\"center\")\n",
    "treeview.heading(\"email\", text=\"Email\", anchor=\"center\")\n",
    "\n",
    "# 컬럼제목만 보이게함\n",
    "treeview[\"show\"] = \"headings\"\n",
    "# scrollbars\n",
    "vsb = Scrollbar(frame_top, orient=\"vertical\", command=treeview.yview)\n",
    "vsb.pack(side='right', fill='y')\n",
    "\n",
    "# hsb = Scrollbar(treeview, orient=\"horizontal\", command=treeview.xview)\n",
    "# hsb.place(relx=0.014, rely=0.875, relheight=0.020, relwidth=0.965)\n",
    "\n",
    "# treeview.configure(yscrollcommand=vsb.set, xscrollcommand=hsb.set)\n",
    "treeview.configure(yscrollcommand=vsb.set)\n",
    "\n",
    "treeValueList = [\n",
    "                (\"타노스\",   \"010-7477-888\",  \"thanos@m.com\"),\n",
    "                (\"슈퍼맨\",   \"3333-44444\",    \"superman@dc.com\"),\n",
    "                (\"아이언맨\", \"010-1111-2222\", \"tony@m.com\"),\n",
    "                (\"아이언맨\", \"010-1111-2222\", \"tony@m.com\"),\n",
    "                (\"아이언맨\", \"010-1111-2222\", \"tony@m.com\"),\n",
    "                (\"아이언맨\", \"010-1111-2222\", \"tony@m.com\"),\n",
    "                (\"아이언맨\", \"010-1111-2222\", \"tony@m.com\"),\n",
    "                (\"아이언맨\", \"010-1111-2222\", \"tony@m.com\"),\n",
    "                (\"아이언맨\", \"010-1111-2222\", \"tony@m.com\"),\n",
    "                (\"아이언맨\", \"010-1111-2222\", \"tony@m.com\"),\n",
    "                (\"아이언맨\", \"010-1111-2222\", \"tony@m.com\"),\n",
    "                (\"아이언맨\", \"010-1111-2222\", \"tony@m.com\"),\n",
    "                (\"아이언맨\", \"010-1111-2222\", \"tony@m.com\"),\n",
    "                (\"아이언맨\", \"010-1111-2222\", \"tony@m.com\"),\n",
    "                (\"마지막맨\", \"010-1111-2222\", \"tony@m.com\"),\n",
    "                ]\n",
    "\n",
    "for i in range(len(treeValueList)):\n",
    "    treeview.insert(\"\", \"end\", text=\"\", values=treeValueList[i], iid=i)\n",
    "\n",
    "def click_item(event):\n",
    "    selectedItem = treeview.focus()\n",
    "    getValue = treeview.item(selectedItem).get('values')  # 딕셔너리의 값만 가져오기\n",
    "    print(getValue)\n",
    "\n",
    "\n",
    "treeview.bind('<ButtonRelease-1>', click_item)\n",
    "\n",
    "\n",
    "window.mainloop()"
   ]
  },
  {
   "cell_type": "markdown",
   "metadata": {
    "collapsed": false,
    "pycharm": {
     "name": "#%% md\n"
    }
   },
   "source": [
    "### 새창 띄우기"
   ]
  },
  {
   "cell_type": "code",
   "execution_count": 2,
   "metadata": {
    "collapsed": false,
    "pycharm": {
     "name": "#%%\n"
    }
   },
   "outputs": [],
   "source": [
    "from tkinter import *\n",
    "\n",
    "window=Tk()\n",
    "window.title(\"부모윈도우\")\n",
    "window.geometry(\"640x400+100+100\")\n",
    "window.resizable(False, False)\n",
    "\n",
    "\n",
    "\n",
    "def popup_window():\n",
    "    toplevel=Toplevel(window)\n",
    "    toplevel.title('자식 윈도우')\n",
    "    toplevel.geometry(\"320x200+820+100\")\n",
    "\n",
    "\n",
    "button = Button(window, text='새창', command=popup_window)\n",
    "button.pack()\n",
    "\n",
    "window.mainloop()"
   ]
  },
  {
   "cell_type": "markdown",
   "metadata": {
    "collapsed": false,
    "pycharm": {
     "name": "#%% md\n"
    }
   },
   "source": [
    "### 메시지 상자"
   ]
  },
  {
   "cell_type": "code",
   "execution_count": 2,
   "metadata": {
    "collapsed": false,
    "pycharm": {
     "name": "#%%\n"
    }
   },
   "outputs": [],
   "source": [
    "# tkinter 메세지 상자 연습\n",
    "from tkinter import *\n",
    "import tkinter.messagebox\n",
    "\n",
    "\n",
    "# 함수 영역 #\n",
    "def Msgbox1():\n",
    " tkinter.messagebox.showinfo(\"메세지 상자\", \"정보를 알려주는 용도의\\n메세지 상자\\n(파란 느낌표 아이콘)\")\n",
    "\n",
    "\n",
    "def Msgbox2():\n",
    " tkinter.messagebox.showwarning(\"메세지 상자\", \"경고를 알려주는 용도의\\n메세지 상자\\n(노란 느낌표 아이콘)\")\n",
    "\n",
    "\n",
    "def Msgbox3():\n",
    " tkinter.messagebox.showerror(\"메세지 상자\", \"경고를 알려주는 용도의\\n메세지 상자\\n(빨간 엑스 아이콘)\")\n",
    "\n",
    "\n",
    "def Msgbox4():\n",
    " tkinter.messagebox.askquestion(\"메세지 상자\", \"질문을 할 때 쓰는\\n메세지 상자\\n추가 옵션용\\n(파란 물음표 아이콘)\")\n",
    "\n",
    "\n",
    "def Msgbox5():\n",
    " tkinter.messagebox.askokcancel(\"메세지 상자\", \"확인(Yes)과 취소(Cancel) 중 선택\\n(파란 물음표 아이콘)\")\n",
    "\n",
    "\n",
    "def Msgbox6():\n",
    " tkinter.messagebox.askyesno(\"메세지 상자\", \"확인(Yes)과 취소(No) 중 선택\\n(파란 물음표 아이콘)\")\n",
    "\n",
    "\n",
    "def Msgbox7():\n",
    " tkinter.messagebox.askretrycancel(\"메세지 상자\", \"다시 시도할지 아니면 취소할지 묻는\\n메세지 상자\\n(노란 느낌표 아이콘)\")\n",
    "\n",
    "\n",
    "def close_win():\n",
    " window.destroy()\n",
    " window.quit()\n",
    "\n",
    "\n",
    "# 기본 영역 #\n",
    "window = Tk()\n",
    "window.title(\"메세지 상자\")\n",
    "\n",
    "# 프레임 영역 #\n",
    "base_frm = Frame(window)\n",
    "base_frm.pack()\n",
    "\n",
    "# 버튼 영역 #\n",
    "btn_info = Button(base_frm, text = \"눌러봐(info)\", width = \"20\", command = Msgbox1)\n",
    "btn_info.pack(padx = \"50\", pady = \"10\")\n",
    "\n",
    "btn_warning = Button(base_frm, text = \"눌러봐(warning)\", width = \"20\", command = Msgbox2)\n",
    "btn_warning.pack(pady =  \"10\")\n",
    "\n",
    "btn_error = Button(base_frm, text = \"눌러봐(error)\", width = \"20\", command = Msgbox3)\n",
    "btn_error.pack(pady =  \"10\")\n",
    "\n",
    "btn_ask_question = Button(base_frm, text = \"눌러봐(question)\", width = \"20\", command = Msgbox4)\n",
    "btn_ask_question.pack(pady =  \"10\")\n",
    "\n",
    "btn_ask_cancel = Button(base_frm, text = \"눌러봐(Yes/Cancel)\", width = \"20\", command = Msgbox5)\n",
    "btn_ask_cancel.pack(pady =  \"10\")\n",
    "\n",
    "btn_ask_YnN = Button(base_frm, text = \"눌러봐(Yes/No/Cancel)\", width = \"20\", command = Msgbox6)\n",
    "btn_ask_YnN.pack(pady =  \"10\")\n",
    "\n",
    "btn_ask_try = Button(base_frm, text = \"눌러봐(try)\", width = \"20\", command = Msgbox7)\n",
    "btn_ask_try.pack(pady =  \"10\")\n",
    "\n",
    "btn_cls = Button(base_frm, text = \"닫기\", width = \"20\", command = close_win)\n",
    "btn_cls.pack(pady =  \"10\")\n",
    "\n",
    "window.mainloop()"
   ]
  }
 ],
 "metadata": {
  "kernelspec": {
   "display_name": "Python 3",
   "language": "python",
   "name": "python3"
  },
  "language_info": {
   "codemirror_mode": {
    "name": "ipython",
    "version": 3
   },
   "file_extension": ".py",
   "mimetype": "text/x-python",
   "name": "python",
   "nbconvert_exporter": "python",
   "pygments_lexer": "ipython3",
   "version": "3.11.7"
  }
 },
 "nbformat": 4,
 "nbformat_minor": 0
}
