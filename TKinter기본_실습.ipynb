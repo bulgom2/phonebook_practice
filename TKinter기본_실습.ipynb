{
 "cells": [
  {
   "cell_type": "markdown",
   "metadata": {},
   "source": [
    "# GUI 프로그래밍\n",
    "\n",
    "CLI(Command Line Interface) vs GUI(Graphical User Interface)\n",
    "\n",
    "### [TKinter](https://docs.python.org/ko/3.9/library/tkinter.html) 기본\n",
    "\n",
    "파이썬 표준 GUI 인터페이스 [TKinter](https://docs.python.org/3/library/tkinter.html)\n",
    "\n",
    "1. 윈도우(window) 생성\n",
    "1. 프레임(frame) 추가 (선택)\n",
    "1. 필요한 위젯들 추가\n",
    "1. 배치 (geometry managers)\n",
    "1. 이벤트(콜백함수, 람다 등) 연결\n",
    "1. 메인루프 시작\n",
    "\n",
    "위젯(Widgets)\n",
    "- 버튼(Button)\n",
    "- 레이블(Label)\n",
    "- 엔트리(Entry)\n",
    "- 텍스트(Text)  \n",
    "\n",
    "기하구조 매니저 (geometry manager)\n",
    "- pack\n",
    "- place\n",
    "- grid\n",
    "\n",
    "[tkinter 참조블로그](https://076923.github.io/posts/Python-tkinter-1/)"
   ]
  },
  {
   "cell_type": "markdown",
   "metadata": {},
   "source": [
    "윈도우 생성 및 메인 루프 실행"
   ]
  },
  {
   "cell_type": "code",
   "execution_count": 1,
   "metadata": {},
   "outputs": [],
   "source": [
    "from tkinter import *\n",
    "\n",
    "# 루트 윈도우 생성\n",
    "window = Tk()\n",
    "window.title(\"My GUI Window\")  # 윈도우 이름\n",
    "window.geometry(\"800x600\")  # 윈도우 크기\n",
    "\n",
    "# 메인 루프 실행\n",
    "window.mainloop()"
   ]
  },
  {
   "cell_type": "markdown",
   "metadata": {},
   "source": [
    "버튼 추가 (윈도우 -> 버튼)"
   ]
  },
  {
   "cell_type": "code",
   "execution_count": 9,
   "metadata": {},
   "outputs": [],
   "source": [
    "from tkinter import *\n",
    "\n",
    "window = Tk()\n",
    "window.title(\"My GUI Window\")  # 윈도우 이름\n",
    "window.geometry(\"800x600\")  # 윈도우 크기\n",
    "\n",
    "\n",
    "def button_pressed():\n",
    "    print(\"Button pressed\")\n",
    "\n",
    "\n",
    "# 버튼 만들기 (Master 설정 필요)\n",
    "button = Button(\n",
    "    master=window,\n",
    "    text=\"클릭하세요\",\n",
    "    bg=\"white\",\n",
    "    fg=\"blue\",\n",
    "    width=80,\n",
    "    height=5,\n",
    "    command=button_pressed,  # 이벤트 연결\n",
    ")\n",
    "\n",
    "# 다양하게 설정 가능\n",
    "button.pack(side=BOTTOM)  # LEFT, RIGHT, TOP, BOTTOM\n",
    "\n",
    "window.mainloop()"
   ]
  },
  {
   "cell_type": "markdown",
   "metadata": {},
   "source": [
    "윈도우 -> 프레임 -> 버튼"
   ]
  },
  {
   "cell_type": "code",
   "execution_count": 3,
   "metadata": {},
   "outputs": [
    {
     "name": "stdout",
     "output_type": "stream",
     "text": [
      "Button pressed\n",
      "Button pressed\n",
      "Button pressed\n",
      "Button pressed\n",
      "Button pressed\n",
      "Button pressed\n",
      "Button pressed\n",
      "Button pressed\n"
     ]
    }
   ],
   "source": [
    "from tkinter import *\n",
    "\n",
    "window = Tk()\n",
    "window.title(\"My GUI Window\")  # 윈도우 이름\n",
    "window.geometry(\"800x600\")  # 윈도우 크기\n",
    "\n",
    "f = Frame(master=window, bg=\"plum1\", bd=10)\n",
    "# 프레임 배치\n",
    "f.pack()\n",
    "f.place(x=100, y=100)\n",
    "\n",
    "# 버튼 만들기\n",
    "button = Button(\n",
    "    f,\n",
    "    text=\"클릭하세요\",\n",
    "    bg=\"white\",\n",
    "    fg=\"blue\",\n",
    "    width=80,\n",
    "    height=2,\n",
    "    command=lambda: print(\"Button pressed\"),\n",
    ")\n",
    "button.pack(side=BOTTOM)  # LEFT, RIGHT, TOP, BOTTOM\n",
    "\n",
    "window.mainloop()"
   ]
  },
  {
   "cell_type": "markdown",
   "metadata": {},
   "source": [
    "레이블 추가"
   ]
  },
  {
   "cell_type": "code",
   "execution_count": 28,
   "metadata": {},
   "outputs": [],
   "source": [
    "from tkinter import *\n",
    "\n",
    "window = Tk()\n",
    "window.title(\"My GUI Window\")  # 윈도우 이름\n",
    "window.geometry(\"800x600\")  # 윈도우 크기\n",
    "\n",
    "def button_pressed():\n",
    "    label[\"text\"] = \"Button Pressed\"\n",
    "    label[\"bg\"] = \"red\" #\"#0000FF\" #\"burlywood1\"\n",
    "    label[\"fg\"] = \"white\"\n",
    "    button[\"text\"] = \"클릭함\"\n",
    "\n",
    "\n",
    "label = Label(window, text=\"Hello!\", font=(\"Arial\", 25))\n",
    "\n",
    "button = Button(\n",
    "    master=window,\n",
    "    text=\"클릭하세요\",\n",
    "    bg=\"white\",\n",
    "    fg=\"red\",\n",
    "    width=80,\n",
    "    height=5,\n",
    "    font=(\"System\", 25),\n",
    "    command=button_pressed,\n",
    ")\n",
    "\n",
    "label.pack(side=RIGHT)\n",
    "button.pack(side=RIGHT)\n",
    "\n",
    "window.mainloop()"
   ]
  },
  {
   "cell_type": "markdown",
   "metadata": {},
   "source": [
    "grid() 배치"
   ]
  },
  {
   "cell_type": "code",
   "execution_count": 13,
   "metadata": {},
   "outputs": [],
   "source": [
    "from tkinter import *\n",
    "\n",
    "window = Tk()\n",
    "window.title(\"My GUI Window\")  # 윈도우 이름\n",
    "\n",
    "\n",
    "for c in range(4):\n",
    "    for r in range(5):\n",
    "        new_label = Label(window, text=f\"({r},{c})\", font=(\"Arial\", 25), bg=\"white\")\n",
    "        new_label.grid(row=r, column=c, padx=5, pady=5)\n",
    "\n",
    "Label(window, text=\"This is wider\", font=(\"Ariel\", 25), bg=\"white\").grid(\n",
    "    row=5, column=2, columnspan=3\n",
    ")\n",
    "\n",
    "window.mainloop()"
   ]
  },
  {
   "cell_type": "markdown",
   "metadata": {},
   "source": [
    "Entry 위젯으로 문자열 입력 받기. 이벤트 발생은 Button 사용"
   ]
  },
  {
   "cell_type": "code",
   "execution_count": 15,
   "metadata": {},
   "outputs": [
    {
     "ename": "KeyboardInterrupt",
     "evalue": "",
     "output_type": "error",
     "traceback": [
      "\u001b[1;31m---------------------------------------------------------------------------\u001b[0m",
      "\u001b[1;31mKeyboardInterrupt\u001b[0m                         Traceback (most recent call last)",
      "Cell \u001b[1;32mIn[15], line 29\u001b[0m\n\u001b[0;32m     26\u001b[0m entry\u001b[38;5;241m.\u001b[39mpack()\n\u001b[0;32m     27\u001b[0m button\u001b[38;5;241m.\u001b[39mpack()\n\u001b[1;32m---> 29\u001b[0m \u001b[43mwindow\u001b[49m\u001b[38;5;241;43m.\u001b[39;49m\u001b[43mmainloop\u001b[49m\u001b[43m(\u001b[49m\u001b[43m)\u001b[49m\n",
      "File \u001b[1;32mc:\\Users\\user\\anaconda3\\envs\\py310\\lib\\tkinter\\__init__.py:1458\u001b[0m, in \u001b[0;36mMisc.mainloop\u001b[1;34m(self, n)\u001b[0m\n\u001b[0;32m   1456\u001b[0m \u001b[38;5;28;01mdef\u001b[39;00m \u001b[38;5;21mmainloop\u001b[39m(\u001b[38;5;28mself\u001b[39m, n\u001b[38;5;241m=\u001b[39m\u001b[38;5;241m0\u001b[39m):\n\u001b[0;32m   1457\u001b[0m \u001b[38;5;250m    \u001b[39m\u001b[38;5;124;03m\"\"\"Call the mainloop of Tk.\"\"\"\u001b[39;00m\n\u001b[1;32m-> 1458\u001b[0m     \u001b[38;5;28;43mself\u001b[39;49m\u001b[38;5;241;43m.\u001b[39;49m\u001b[43mtk\u001b[49m\u001b[38;5;241;43m.\u001b[39;49m\u001b[43mmainloop\u001b[49m\u001b[43m(\u001b[49m\u001b[43mn\u001b[49m\u001b[43m)\u001b[49m\n",
      "\u001b[1;31mKeyboardInterrupt\u001b[0m: "
     ]
    },
    {
     "ename": "",
     "evalue": "",
     "output_type": "error",
     "traceback": [
      "\u001b[1;31m현재 셀 또는 이전 셀에서 코드를 실행하는 동안 Kernel이 충돌했습니다. \n",
      "\u001b[1;31m셀의 코드를 검토하여 가능한 오류 원인을 식별하세요. \n",
      "\u001b[1;31m자세한 내용을 보려면 <a href='https://aka.ms/vscodeJupyterKernelCrash'>여기</a>를 클릭하세요. \n",
      "\u001b[1;31m자세한 내용은 Jupyter <a href='command:jupyter.viewOutput'>로그</a>를 참조하세요."
     ]
    }
   ],
   "source": [
    "from tkinter import *\n",
    "\n",
    "\n",
    "def button_pressed():\n",
    "    print(entry.get())\n",
    "    entry.insert(index=END, string=\", World!\")\n",
    "    # entry.delete(0, END)\n",
    "\n",
    "\n",
    "window = Tk()\n",
    "\n",
    "entry = Entry(\n",
    "    master=window, fg=\"black\", bg=\"yellow\", width=30, justify=CENTER, font=(\"Arial\", 25)\n",
    ")\n",
    "\n",
    "button = Button(\n",
    "    master=window,\n",
    "    text=\"클릭하세요\",\n",
    "    bg=\"white\",\n",
    "    fg=\"blue\",\n",
    "    width=80,\n",
    "    height=2,\n",
    "    command=button_pressed,\n",
    ")\n",
    "\n",
    "entry.pack()\n",
    "button.pack()\n",
    "\n",
    "window.mainloop()"
   ]
  },
  {
   "cell_type": "markdown",
   "metadata": {},
   "source": [
    "Text 위젯으로 여러 줄"
   ]
  },
  {
   "cell_type": "code",
   "execution_count": 1,
   "metadata": {},
   "outputs": [
    {
     "name": "stdout",
     "output_type": "stream",
     "text": [
      "안녕\n",
      "\n",
      "안녕Good!\n",
      "\n",
      "안녕Good!Good!\n",
      "하이\n",
      "\n",
      "\n",
      "안녕Good!Good!\n",
      "Good!하이\n",
      "헬로\n",
      "\n",
      "안녕Good!Good!\n",
      "Good!Good!하이\n",
      "헬로\n",
      "\n",
      "안녕Good!Good!\n",
      "Good!Good!Good!하이\n",
      "헬로\n",
      "\n",
      "안녕Good!Good!\n",
      "Good!Good!Good!Good!하이\n",
      "헬로\n",
      "\n",
      "안녕Good!Good!\n",
      "Good!Good!Good!Good!Good!하이\n",
      "헬로\n",
      "\n",
      "안녕Good!Good!\n",
      "Good!Good!Good!Good!Good!Good!하이\n",
      "헬로\n",
      "\n",
      "안녕Good!Good!\n",
      "Good!Good!Good!Good!Good!Good!Good!하이\n",
      "헬로\n",
      "\n",
      "안녕Good!Good!\n",
      "Good!Good!Good!Good!Good!Good!Good!Good!하이\n",
      "헬로\n",
      "\n"
     ]
    },
    {
     "ename": "KeyboardInterrupt",
     "evalue": "",
     "output_type": "error",
     "traceback": [
      "\u001b[1;31m---------------------------------------------------------------------------\u001b[0m",
      "\u001b[1;31mKeyboardInterrupt\u001b[0m                         Traceback (most recent call last)",
      "Cell \u001b[1;32mIn[1], line 26\u001b[0m\n\u001b[0;32m     23\u001b[0m button\u001b[38;5;241m.\u001b[39mpack()\n\u001b[0;32m     24\u001b[0m text_box\u001b[38;5;241m.\u001b[39mpack()\n\u001b[1;32m---> 26\u001b[0m \u001b[43mwindow\u001b[49m\u001b[38;5;241;43m.\u001b[39;49m\u001b[43mmainloop\u001b[49m\u001b[43m(\u001b[49m\u001b[43m)\u001b[49m\n",
      "File \u001b[1;32mc:\\Users\\user\\anaconda3\\envs\\py310\\lib\\tkinter\\__init__.py:1458\u001b[0m, in \u001b[0;36mMisc.mainloop\u001b[1;34m(self, n)\u001b[0m\n\u001b[0;32m   1456\u001b[0m \u001b[38;5;28;01mdef\u001b[39;00m \u001b[38;5;21mmainloop\u001b[39m(\u001b[38;5;28mself\u001b[39m, n\u001b[38;5;241m=\u001b[39m\u001b[38;5;241m0\u001b[39m):\n\u001b[0;32m   1457\u001b[0m \u001b[38;5;250m    \u001b[39m\u001b[38;5;124;03m\"\"\"Call the mainloop of Tk.\"\"\"\u001b[39;00m\n\u001b[1;32m-> 1458\u001b[0m     \u001b[38;5;28;43mself\u001b[39;49m\u001b[38;5;241;43m.\u001b[39;49m\u001b[43mtk\u001b[49m\u001b[38;5;241;43m.\u001b[39;49m\u001b[43mmainloop\u001b[49m\u001b[43m(\u001b[49m\u001b[43mn\u001b[49m\u001b[43m)\u001b[49m\n",
      "\u001b[1;31mKeyboardInterrupt\u001b[0m: "
     ]
    },
    {
     "ename": "",
     "evalue": "",
     "output_type": "error",
     "traceback": [
      "\u001b[1;31m현재 셀 또는 이전 셀에서 코드를 실행하는 동안 Kernel이 충돌했습니다. \n",
      "\u001b[1;31m셀의 코드를 검토하여 가능한 오류 원인을 식별하세요. \n",
      "\u001b[1;31m자세한 내용을 보려면 <a href='https://aka.ms/vscodeJupyterKernelCrash'>여기</a>를 클릭하세요. \n",
      "\u001b[1;31m자세한 내용은 Jupyter <a href='command:jupyter.viewOutput'>로그</a>를 참조하세요."
     ]
    }
   ],
   "source": [
    "from tkinter import *\n",
    "\n",
    "window = Tk()\n",
    "\n",
    "\n",
    "def button_pressed():\n",
    "    print(text_box.get(\"1.0\", END))\n",
    "    text_box.insert(index=\"2.0\", chars=\"Good!\")\n",
    "    #text_box.delete(\"1.0\", END)\n",
    "\n",
    "\n",
    "button = Button(\n",
    "    master=window,\n",
    "    text=\"클릭하세요\",\n",
    "    bg=\"white\",\n",
    "    fg=\"blue\",\n",
    "    width=80,\n",
    "    height=2,\n",
    "    command=button_pressed,\n",
    ")\n",
    "text_box = Text(master=window)\n",
    "\n",
    "button.pack()\n",
    "text_box.pack()\n",
    "\n",
    "window.mainloop()"
   ]
  },
  {
   "cell_type": "markdown",
   "metadata": {},
   "source": [
    "```Frame``` 프레임 여러개 사용 가능"
   ]
  },
  {
   "cell_type": "code",
   "execution_count": 1,
   "metadata": {},
   "outputs": [],
   "source": [
    "from tkinter import *\n",
    "\n",
    "window = Tk()\n",
    "\n",
    "frame_a = Frame(master=window, relief=RAISED)\n",
    "frame_b = Frame(master=window, bg=\"plum1\", bd=10)\n",
    "\n",
    "label_a = Button(master=frame_a, text=\"I'm in Frame A\", font=(\"Arial\", 25))\n",
    "label_a.pack()\n",
    "\n",
    "label_b = Label(master=frame_b, text=\"I'm in Frame B\", font=(\"Arial\", 25))\n",
    "label_b.pack()\n",
    "\n",
    "frame_a.pack(side=LEFT)\n",
    "frame_b.pack(side=LEFT)\n",
    "\n",
    "window.mainloop()"
   ]
  },
  {
   "cell_type": "markdown",
   "metadata": {},
   "source": [
    "[도전] 콜백용 함수를 하나만 만들기\n",
    "- 어려운점: Button의 command에는 인수를 하나도 받지 않는 함수만 등록 가능"
   ]
  },
  {
   "cell_type": "code",
   "execution_count": 3,
   "metadata": {},
   "outputs": [
    {
     "name": "stderr",
     "output_type": "stream",
     "text": [
      "Exception in Tkinter callback\n",
      "Traceback (most recent call last):\n",
      "  File \"c:\\Users\\user\\anaconda3\\envs\\py310\\lib\\tkinter\\__init__.py\", line 1921, in __call__\n",
      "    return self.func(*args)\n",
      "TypeError: button_click() missing 1 required positional argument: 'key'\n",
      "Exception in Tkinter callback\n",
      "Traceback (most recent call last):\n",
      "  File \"c:\\Users\\user\\anaconda3\\envs\\py310\\lib\\tkinter\\__init__.py\", line 1921, in __call__\n",
      "    return self.func(*args)\n",
      "TypeError: button_click() missing 1 required positional argument: 'key'\n"
     ]
    }
   ],
   "source": [
    "from tkinter import *\n",
    "\n",
    "window = Tk()\n",
    "\n",
    "window.title(\"My Calculator\")\n",
    "\n",
    "\n",
    "def button_click(key):\n",
    "    print(key, \"is pressed\")\n",
    "\n",
    "\n",
    "# 버튼을 클릭하면 오류 발생\n",
    "# TypeError: button_click() missing 1 required positional argument: 'key'\n",
    "# button_click 함수에 \"1\"을 어떻게 전달할까?\n",
    "button_1 = Button(window, text=\"1\", command=button_click) \n",
    "\n",
    "\n",
    "button_1.pack()\n",
    "\n",
    "window.mainloop()"
   ]
  },
  {
   "cell_type": "markdown",
   "metadata": {},
   "source": [
    "- 힌트: 람다의 매개변수의 기본값을 이용해서 인수를 넣어주는 것 처럼 구현 가능"
   ]
  },
  {
   "cell_type": "code",
   "execution_count": 2,
   "metadata": {},
   "outputs": [
    {
     "name": "stdout",
     "output_type": "stream",
     "text": [
      "1 is pressed\n",
      "1 is pressed\n",
      "1 is pressed\n",
      "1 is pressed\n",
      "1 is pressed\n",
      "1 is pressed\n"
     ]
    }
   ],
   "source": [
    "from tkinter import *\n",
    "\n",
    "window = Tk()\n",
    "\n",
    "window.title(\"My Calculator\")\n",
    "\n",
    "\n",
    "def button_click(key):\n",
    "    print(key, \"is pressed\")\n",
    "\n",
    "\n",
    "# 람다 함수의 매개변수 기본값 사용\n",
    "button_1 = Button(window, text=\"1\", command=lambda key=\"1\": button_click(key)) \n",
    "\n",
    "\n",
    "button_1.pack()\n",
    "\n",
    "window.mainloop()"
   ]
  },
  {
   "cell_type": "markdown",
   "metadata": {},
   "source": [
    "### [실습] 숫자 증가/감소\n",
    "\n"
   ]
  },
  {
   "cell_type": "code",
   "execution_count": 4,
   "metadata": {},
   "outputs": [],
   "source": [
    "from tkinter import *\n",
    "\n",
    "window = Tk()\n",
    "\n",
    "window.title(\"숫자 증가/감소\")\n",
    "\n",
    "# 버튼 동작 메서드\n",
    "def button_plus():\n",
    "    num = int(label_num[\"text\"])\n",
    "    num += 1\n",
    "    label_num[\"text\"] = num\n",
    "\n",
    "def button_minus():\n",
    "    num = int(label_num[\"text\"])\n",
    "    num -= 1\n",
    "    label_num[\"text\"] = num\n",
    "\n",
    "''' \n",
    "# 강사님 답\n",
    "def update_display(change):\n",
    "    display[\"text\"] = str(int(display[\"text\"]) + change)\n",
    "'''\n",
    "# def update_display(change):\n",
    "#     label_num[\"text\"] = str(int(label_num[\"text\"]) + change)\n",
    "\n",
    "# 숫자 표시\n",
    "label_num = Label(window, text=\"0\", font=(\"Arial\", 50))\n",
    "\n",
    "# +/- 버튼\n",
    "frame_a = Frame(master=window, relief=RAISED)\n",
    "frame_b = Frame(master=window,)\n",
    "\n",
    "label_a = Button(\n",
    "    master=frame_a,\n",
    "    text=\"+\",\n",
    "    font=(\"Arial\", 50),\n",
    "    command=button_plus\n",
    "    # command=lambda: update_display(1)\n",
    ")\n",
    "\n",
    "'''\n",
    "# 강사님 답\n",
    "command=lambda: update_display(1)\n",
    "'''\n",
    "\n",
    "label_b = Button(\n",
    "    master=frame_b,\n",
    "    text=\"-\",\n",
    "    font=(\"Arial\", 50),\n",
    "    command=button_minus\n",
    "    # command=lambda: update_display(-1)\n",
    ")\n",
    "\n",
    "'''\n",
    "# 강사님 답\n",
    "command=lambda: update_display(-1)\n",
    "'''\n",
    "\n",
    "label_num.pack()\n",
    "label_a.pack()\n",
    "label_b.pack()\n",
    "\n",
    "frame_a.pack(side=LEFT)\n",
    "frame_b.pack(side=LEFT)\n",
    "\n",
    "window.mainloop()"
   ]
  },
  {
   "cell_type": "markdown",
   "metadata": {},
   "source": [
    "### [실습] 숫자 맞추기 게임\n",
    "\n",
    "팁: ```pack(fill=BOTH, expand=True)```을 사용하면 위젯들의 크기를 키워줍니다."
   ]
  },
  {
   "cell_type": "code",
   "execution_count": 5,
   "metadata": {},
   "outputs": [
    {
     "ename": "ValueError",
     "evalue": "invalid literal for int() with base 10: ''",
     "output_type": "error",
     "traceback": [
      "\u001b[1;31m---------------------------------------------------------------------------\u001b[0m",
      "\u001b[1;31mValueError\u001b[0m                                Traceback (most recent call last)",
      "Cell \u001b[1;32mIn[5], line 8\u001b[0m\n\u001b[0;32m      5\u001b[0m try_count \u001b[38;5;241m=\u001b[39m \u001b[38;5;241m0\u001b[39m\n\u001b[0;32m      7\u001b[0m \u001b[38;5;28;01mwhile\u001b[39;00m \u001b[38;5;28;01mTrue\u001b[39;00m:\n\u001b[1;32m----> 8\u001b[0m     user_guess \u001b[38;5;241m=\u001b[39m \u001b[38;5;28;43mint\u001b[39;49m\u001b[43m(\u001b[49m\u001b[38;5;28;43minput\u001b[39;49m\u001b[43m(\u001b[49m\u001b[38;5;124;43m\"\u001b[39;49m\u001b[38;5;124;43m1이상 100이하 자연수를 추측해보세요: \u001b[39;49m\u001b[38;5;124;43m\"\u001b[39;49m\u001b[43m)\u001b[49m\u001b[43m)\u001b[49m\n\u001b[0;32m     10\u001b[0m     try_count \u001b[38;5;241m+\u001b[39m\u001b[38;5;241m=\u001b[39m \u001b[38;5;241m1\u001b[39m\n\u001b[0;32m     12\u001b[0m     \u001b[38;5;28;01mif\u001b[39;00m user_guess \u001b[38;5;241m>\u001b[39m num:\n",
      "\u001b[1;31mValueError\u001b[0m: invalid literal for int() with base 10: ''"
     ]
    }
   ],
   "source": [
    "import random\n",
    "\n",
    "num = random.randint(1, 101)\n",
    "\n",
    "try_count = 0\n",
    "\n",
    "while True:\n",
    "    user_guess = int(input(\"1이상 100이하 자연수를 추측해보세요: \"))\n",
    "\n",
    "    try_count += 1\n",
    "\n",
    "    if user_guess > num:\n",
    "        print(f\"{user_guess}보다 작습니다.\")\n",
    "    elif user_guess < num:\n",
    "        print(f\"{user_guess}보다 큽니다.\")\n",
    "    else:\n",
    "        print(f\"{num}을(를) {try_count}번 만에 맞췄습니다.\")\n",
    "        break"
   ]
  },
  {
   "cell_type": "code",
   "execution_count": 8,
   "metadata": {},
   "outputs": [],
   "source": [
    "from tkinter import *\n",
    "import random\n",
    "\n",
    "window = Tk()\n",
    "\n",
    "window.title(\"숫자 맞추기\")\n",
    "\n",
    "# 랜덤 숫자 생성 로직\n",
    "num = random.randint(1, 101)\n",
    "try_count = 0\n",
    "\n",
    "# 버튼 동작 메서드\n",
    "def enter_pressed():\n",
    "    global try_count\n",
    "    try_count += 1\n",
    "    guess_num = int(entry.get())\n",
    "\n",
    "    if guess_num > num:\n",
    "        label[\"text\"] = (f\"{guess_num}보다 작습니다.\")\n",
    "    elif guess_num < num:\n",
    "        label[\"text\"] = (f\"{guess_num}보다 큽니다.\")\n",
    "    else:\n",
    "        label[\"text\"] = (f\"{num}을(를) {try_count}번 만에 맞췄습니다.\")\n",
    "    # entry.delete(0, END)\n",
    "\n",
    "entry = Entry(\n",
    "    master=window, fg=\"black\", bg=\"white\", justify=CENTER, font=(\"Arial\", 25)\n",
    ")\n",
    "entry.bind(\"<Return>\", lambda _: enter_pressed())\n",
    "\n",
    "button = Button(\n",
    "    master=window,\n",
    "    text=\"ENTER\",\n",
    "    fg=\"black\",\n",
    "    font=(\"Arial\", 25),\n",
    "    width=30,\n",
    "    height=2,\n",
    "    command=enter_pressed,\n",
    ")\n",
    "\n",
    "label = Label(window, text=\"1 이상 100 이하 자연수를 추측해보세요.\", font=(\"Arial\", 25))\n",
    "\n",
    "entry.pack(fill=BOTH, expand=True)\n",
    "button.pack(fill=BOTH, expand=True)\n",
    "label.pack(fill=BOTH, expand=True, side=BOTTOM)\n",
    "\n",
    "window.mainloop()\n"
   ]
  },
  {
   "cell_type": "markdown",
   "metadata": {},
   "source": [
    "### [실습] 화씨 섭씨 변환\n",
    "\n",
    "힌트\n",
    "- ```eval()```\n",
    "- ```c = str((f - 32) * 5 / 9)```\n",
    "- ```f = str(c * 9 / 5 + 32)```\n",
    "- ```f_entry.bind(\"<Return>\", lambda _: f2c())```\n",
    "- 화씨섭씨 기호는 복사붙여넣기하세요: °F, °C\n",
    "- grid 사용 추천"
   ]
  },
  {
   "cell_type": "code",
   "execution_count": 1,
   "metadata": {},
   "outputs": [],
   "source": [
    "from tkinter import *\n",
    "\n",
    "window = Tk()\n",
    "\n",
    "window.title(\"화씨/섭씨 변환\")\n",
    "\n",
    "# 섭씨/화씨 변환 메서드\n",
    "def f2c():    # 화씨 -> 섭씨\n",
    "    f = float(entry_fahr.get())\n",
    "    c = str((f - 32) * 5 / 9)\n",
    "    entry_cels.delete(0, END)\n",
    "    entry_cels.insert(0, c)\n",
    "\n",
    "def c2f():    # 섭씨 -> 화씨\n",
    "    c = float(entry_cels.get())\n",
    "    f = str(c * 9 / 5 + 32)\n",
    "    entry_fahr.delete(0, END)\n",
    "    entry_fahr.insert(0, f)\n",
    "\n",
    "\n",
    "frame_a = Frame(master=window, relief=RAISED)\n",
    "frame_b = Frame(master=window, )\n",
    "\n",
    "# 섭씨 입력창, 레이블\n",
    "entry_cels = Entry(master=frame_a, fg=\"black\", bg=\"yellow\", justify=CENTER, font=(\"Arial\", 25))\n",
    "label_cels = Label(frame_a, text=\"섭씨(°C)\", font=(\"Arial\", 25))\n",
    "entry_cels.bind(\"<Return>\", lambda _: c2f())\n",
    "\n",
    "# 화씨 입력창, 레이블\n",
    "entry_fahr = Entry(master=frame_b, fg=\"black\", bg=\"yellow\", justify=CENTER, font=(\"Arial\", 25))\n",
    "label_fahr = Label(frame_b, text=\"화씨(°F)\", font=(\"Arial\", 25))\n",
    "entry_fahr.bind(\"<Return>\", lambda _: f2c())\n",
    "\n",
    "'''\n",
    "# 강사님 답 (프레임 없이)\n",
    "f_entry.grid(row=0, column=0)\n",
    "c_entry.grid(row=1, column=0)\n",
    "f_label.grid(row=0, column=1)\n",
    "c_label.grid(row=1, column=1)\n",
    "'''\n",
    "\n",
    "# entry_fahr.grid(row=0, column=0)\n",
    "# entry_cels.grid(row=1, column=0)\n",
    "# label_fahr.grid(row=0, column=1)\n",
    "# label_cels.grid(row=1, column=1)\n",
    "\n",
    "label_cels.pack()\n",
    "entry_cels.pack()\n",
    "entry_fahr.pack()\n",
    "frame_a.pack(side=LEFT)\n",
    "frame_b.pack(side=LEFT)\n",
    "\n",
    "window.mainloop()"
   ]
  }
 ],
 "metadata": {
  "interpreter": {
   "hash": "4e4a43d73bced3a6de5125252de52756354fa9cd2a395ae122159333d29a56ba"
  },
  "kernelspec": {
   "display_name": "Python 3.10.0 64-bit ('mypy310': conda)",
   "language": "python",
   "name": "python3"
  },
  "language_info": {
   "codemirror_mode": {
    "name": "ipython",
    "version": 3
   },
   "file_extension": ".py",
   "mimetype": "text/x-python",
   "name": "python",
   "nbconvert_exporter": "python",
   "pygments_lexer": "ipython3",
   "version": "3.10.14"
  },
  "orig_nbformat": 4
 },
 "nbformat": 4,
 "nbformat_minor": 2
}
